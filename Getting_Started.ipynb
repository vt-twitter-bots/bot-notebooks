{
  "nbformat": 4,
  "nbformat_minor": 0,
  "metadata": {
    "colab": {
      "name": "Getting_Started.ipynb",
      "version": "0.3.2",
      "provenance": [],
      "collapsed_sections": []
    },
    "kernelspec": {
      "name": "python3",
      "display_name": "Python 3"
    }
  },
  "cells": [
    {
      "cell_type": "markdown",
      "metadata": {
        "id": "view-in-github",
        "colab_type": "text"
      },
      "source": [
        "[View in Colaboratory](https://colab.research.google.com/github/tuffacton/bot-notebooks/blob/master/Getting_Started.ipynb)"
      ]
    },
    {
      "metadata": {
        "id": "vZOdnQpeWzQT",
        "colab_type": "text"
      },
      "cell_type": "markdown",
      "source": [
        "# Getting Started\n",
        "Here we will show you how to get started with Tweepy. Anyone wishing to build any kind of bot should start here."
      ]
    },
    {
      "metadata": {
        "id": "qSxWpF8_XfYr",
        "colab_type": "text"
      },
      "cell_type": "markdown",
      "source": [
        "#### Twitter Help Code\n",
        "Thanks to a thread [here](https://github.com/jupyter/notebook/issues/2790) our actual tweets will be embedded directly into the notebook to demonstrate!"
      ]
    },
    {
      "metadata": {
        "id": "C6J-I5cMWpf4",
        "colab_type": "code",
        "colab": {
          "base_uri": "https://localhost:8080/",
          "height": 238
        },
        "outputId": "e2211ef1-de59-40dd-b6a3-f033f7c8eb3d"
      },
      "cell_type": "code",
      "source": [
        "# Define Tweet Class\n",
        "class Tweet(object):\n",
        "    def __init__(self, embed_str=None):\n",
        "        self.embed_str = embed_str\n",
        "\n",
        "    def _repr_html_(self):\n",
        "        return self.embed_str\n",
        "      \n",
        "# Assign an twitter embed to a string (with u placed in front)\n",
        "s = u\"\"\"<blockquote class=\"twitter-tweet\" data-lang=\"en\"><p lang=\"en\" dir=\"ltr\">Yes! Didn&#39;t take me more than 10 seconds to try the new music feature, Debussy with a roaring fireplace is 1000%👌 <a href=\"https://t.co/pZx0n87d5U\">https://t.co/pZx0n87d5U</a></p>&mdash; Nic Acton (@NicActon) <a href=\"https://twitter.com/NicActon/status/975884801029935109?ref_src=twsrc%5Etfw\">March 20, 2018</a></blockquote>\n",
        "<script async src=\"https://platform.twitter.com/widgets.js\" charset=\"utf-8\"></script>\"\"\"\n",
        "Tweet(s)"
      ],
      "execution_count": 1,
      "outputs": [
        {
          "output_type": "execute_result",
          "data": {
            "text/html": [
              "<blockquote class=\"twitter-tweet\" data-lang=\"en\"><p lang=\"en\" dir=\"ltr\">Yes! Didn&#39;t take me more than 10 seconds to try the new music feature, Debussy with a roaring fireplace is 1000%👌 <a href=\"https://t.co/pZx0n87d5U\">https://t.co/pZx0n87d5U</a></p>&mdash; Nic Acton (@NicActon) <a href=\"https://twitter.com/NicActon/status/975884801029935109?ref_src=twsrc%5Etfw\">March 20, 2018</a></blockquote>\n",
              "<script async src=\"https://platform.twitter.com/widgets.js\" charset=\"utf-8\"></script>"
            ],
            "text/plain": [
              "<__main__.Tweet at 0x7f271f2fac50>"
            ]
          },
          "metadata": {
            "tags": []
          },
          "execution_count": 1
        }
      ]
    },
    {
      "metadata": {
        "id": "Vk_URoFVYKOE",
        "colab_type": "text"
      },
      "cell_type": "markdown",
      "source": [
        "#### Bot Creation\n",
        "Bot creation starts at [Twitter](https://twitter.com/), where one can sign-up. Our group members created various bots in just a few steps. Here are some characteristics that define just a simple user of the Twitter platform in order to make an account in the first place:\n",
        "1. A unique username\n",
        "2. An e-mail to validate against\n",
        "\n",
        "That's it. Anyone can make an account with only those two things and start interacting with the platform through Twitter's interfaces.\n",
        "\n",
        "In order to use the Twitter API, which is the most quick and efficient way to interact with the Twitter platform as a bot, a mobile phone number must also be provided in order to provide verification. A few considerations for this:\n",
        "- Phone numbers are not incredibly hard to come by, platforms like [Google Voice](https://voice.google.com) and similar providers allow users to allocate many phone numbers to themselves.\n",
        "- You can make many Twitter accounts off of the same phone number.\n",
        "- You can skip the phone number and just perform all of your automation by emulating a Browser User Agent to interact with the Twitter web UI. This can easily be done with libraries like [Selenium](https://www.seleniumhq.org/).\n",
        "\n",
        "For the purposes of these bot demonstrations, we simply used the Twitter API and tied phone numbers to our Twitter accoutns. The bot created is demonstrated below:"
      ]
    },
    {
      "metadata": {
        "id": "FLzoLYyiXe7H",
        "colab_type": "code",
        "colab": {
          "base_uri": "https://localhost:8080/",
          "height": 237
        },
        "outputId": "d37e2216-9ae0-4867-ea56-32e26273c81b"
      },
      "cell_type": "code",
      "source": [
        "s2 = u\"\"\"<blockquote class=\"twitter-tweet\" data-lang=\"en\"><p lang=\"en\" dir=\"ltr\">Hello world, this is <a href=\"https://twitter.com/NicActon?ref_src=twsrc%5Etfw\">@NicActon</a> here. This will likely be the only human-made tweet you&#39;ll see out of this account for quite some time. Sit back and see what this little guy can do.</p>&mdash; Nick the Bot (@nic_tweet_bot) <a href=\"https://twitter.com/nic_tweet_bot/status/985635986351841281?ref_src=twsrc%5Etfw\">April 15, 2018</a></blockquote>\n",
        "<script async src=\"https://platform.twitter.com/widgets.js\" charset=\"utf-8\"></script>\"\"\"\n",
        "Tweet(s2)"
      ],
      "execution_count": 2,
      "outputs": [
        {
          "output_type": "execute_result",
          "data": {
            "text/html": [
              "<blockquote class=\"twitter-tweet\" data-lang=\"en\"><p lang=\"en\" dir=\"ltr\">Hello world, this is <a href=\"https://twitter.com/NicActon?ref_src=twsrc%5Etfw\">@NicActon</a> here. This will likely be the only human-made tweet you&#39;ll see out of this account for quite some time. Sit back and see what this little guy can do.</p>&mdash; Nick the Bot (@nic_tweet_bot) <a href=\"https://twitter.com/nic_tweet_bot/status/985635986351841281?ref_src=twsrc%5Etfw\">April 15, 2018</a></blockquote>\n",
              "<script async src=\"https://platform.twitter.com/widgets.js\" charset=\"utf-8\"></script>"
            ],
            "text/plain": [
              "<__main__.Tweet at 0x7f271f2fa290>"
            ]
          },
          "metadata": {
            "tags": []
          },
          "execution_count": 2
        }
      ]
    },
    {
      "metadata": {
        "id": "_WHUXR5wYag1",
        "colab_type": "text"
      },
      "cell_type": "markdown",
      "source": [
        "The following code can be used to set up a connection to the Twitter API utilizing the bot you made in the previous step."
      ]
    },
    {
      "metadata": {
        "id": "Yy0AcCRHYXYG",
        "colab_type": "code",
        "colab": {}
      },
      "cell_type": "code",
      "source": [
        "# These keys will be removed from the published code, but you can use your own:\n",
        "CONSUMER_KEY = 'XXXXXXXXXXXXXXXXXXX'\n",
        "CONSUMER_SECRET = 'XXXXXXXXXXXXXXXXXXXXXXXXXXXXXXXXXXXXXX'\n",
        "ACCESS_TOKEN = 'XXXXXXXXXXXXXXXXXXXXXXXXXXXXXXXXXXXXXXXXXXXXXXXXXXXXXXXXX'\n",
        "ACCESS_SECRET = 'XXXXXXXXXXXXXXXXXXXXXXXXXXXXXXXXXXXXXX'\n",
        "\n",
        "# Configure access information for reaching Twitter\n",
        "auth = tweepy.OAuthHandler(CONSUMER_KEY, CONSUMER_SECRET)\n",
        "auth.set_access_token(ACCESS_TOKEN, ACCESS_SECRET)"
      ],
      "execution_count": 0,
      "outputs": []
    },
    {
      "metadata": {
        "id": "8WRwSO7pYuox",
        "colab_type": "text"
      },
      "cell_type": "markdown",
      "source": [
        "From here, anyone can apply functions to their own bots or even validate the functionality of the bots we created."
      ]
    },
    {
      "metadata": {
        "id": "5s30Ipi2Y8Tg",
        "colab_type": "code",
        "colab": {}
      },
      "cell_type": "code",
      "source": [
        ""
      ],
      "execution_count": 0,
      "outputs": []
    }
  ]
}