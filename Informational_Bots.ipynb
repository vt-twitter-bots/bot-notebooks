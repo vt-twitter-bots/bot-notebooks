{
  "nbformat": 4,
  "nbformat_minor": 0,
  "metadata": {
    "colab": {
      "name": "Informational_Bots.ipynb",
      "version": "0.3.2",
      "provenance": [],
      "collapsed_sections": []
    },
    "kernelspec": {
      "name": "python3",
      "display_name": "Python 3"
    }
  },
  "cells": [
    {
      "cell_type": "markdown",
      "metadata": {
        "id": "view-in-github",
        "colab_type": "text"
      },
      "source": [
        "[View in Colaboratory](https://colab.research.google.com/github/tuffacton/bot-notebooks/blob/master/Informational_Bots.ipynb)"
      ]
    },
    {
      "metadata": {
        "id": "IzEFdDx6Z5lM",
        "colab_type": "text"
      },
      "cell_type": "markdown",
      "source": [
        "# Informational Bots"
      ]
    },
    {
      "metadata": {
        "id": "Jbxn0C9QZ-Vp",
        "colab_type": "text"
      },
      "cell_type": "markdown",
      "source": [
        "#### Objective\n",
        "Tweets out a snippet of information, maybe from an external repository or a set datastore."
      ]
    },
    {
      "metadata": {
        "id": "jsnJUNKqZ_jx",
        "colab_type": "text"
      },
      "cell_type": "markdown",
      "source": [
        "#### Bot Creation\n",
        "Our Informational Bot will perform a simple function, it will tweet out some \"fun facts\" that have been previously pulled from https://www.livin3.com/50-cool-and-weird-fun-facts-that-you-should-know (which have been stored in a text file in a github repository).\n",
        "\n",
        "Credit goes to [Kristoffer Ekens](https://www.codingdojo.com/blog/author/kekenes/) over at Coding Dojo for his excellent [tutorial](https://www.codingdojo.com//blog/make-twitter-bot-10-minutes/) that formed the basis of this bot."
      ]
    },
    {
      "metadata": {
        "id": "524GR-TlZVNM",
        "colab_type": "code",
        "colab": {}
      },
      "cell_type": "code",
      "source": [
        "# Comment these out if you already have these dependencies or manage them \n",
        "# with another package manager like conda\n",
        "!pip install -q tweepy\n",
        "import tweepy, time\n",
        "\n",
        "# These keys will be removed from the published code, but you can use your own:\n",
        "CONSUMER_KEY = 'XXXXXXXXXXXXXXXXXX'\n",
        "CONSUMER_SECRET = 'XXXXXXXXXXXXXXXXXXXXXXXXXXXXXXXXXXXX'\n",
        "ACCESS_TOKEN = 'XXXXXXXXXXXXXXXXXXXXXXXXXXXXXXXXXXXXXXXXXXXXXXXXXXXXXX'\n",
        "ACCESS_SECRET = 'XXXXXXXXXXXXXXXXXXXXXXXXXXXXXXXXXXXX'\n",
        "\n",
        "# Configure access information for reaching Twitter\n",
        "auth = tweepy.OAuthHandler(CONSUMER_KEY, CONSUMER_SECRET)\n",
        "auth.set_access_token(ACCESS_TOKEN, ACCESS_SECRET)"
      ],
      "execution_count": 0,
      "outputs": []
    },
    {
      "metadata": {
        "id": "wPE78_CxamiU",
        "colab_type": "text"
      },
      "cell_type": "markdown",
      "source": [
        "We can read the contents of our text file. The function of our Twitter bot is that every one minute it will Tweet one line from our fun facts list."
      ]
    },
    {
      "metadata": {
        "id": "d4YH4wLyaogR",
        "colab_type": "code",
        "colab": {}
      },
      "cell_type": "code",
      "source": [
        "# Just some simple code to pull lines of strings from a text file in a URL into a list for later use.\n",
        "import urllib2\n",
        "scrape = urllib2.urlopen('https://raw.githubusercontent.com/tuffacton/bot_stuff/master/fun_facts.txt')\n",
        "text_repo = []\n",
        "for line in scrape:\n",
        "  text_repo.append(str(line))\n",
        "print(text_repo)"
      ],
      "execution_count": 0,
      "outputs": []
    },
    {
      "metadata": {
        "id": "s_whGV0tasZS",
        "colab_type": "text"
      },
      "cell_type": "markdown",
      "source": [
        "Lets check if the Tweepy python package actually works:"
      ]
    },
    {
      "metadata": {
        "id": "hMdaYMS1aurb",
        "colab_type": "code",
        "colab": {}
      },
      "cell_type": "code",
      "source": [
        "api = tweepy.API(auth)\n",
        "api.update_status(\"This is a test tweepy tweet\")"
      ],
      "execution_count": 0,
      "outputs": []
    },
    {
      "metadata": {
        "id": "wEISV0Yha0UN",
        "colab_type": "code",
        "colab": {
          "base_uri": "https://localhost:8080/",
          "height": 193
        },
        "outputId": "0449f062-62cd-48a7-bbea-ed18fb050975"
      },
      "cell_type": "code",
      "source": [
        "# Define Tweet Class\n",
        "class Tweet(object):\n",
        "    def __init__(self, embed_str=None):\n",
        "        self.embed_str = embed_str\n",
        "\n",
        "    def _repr_html_(self):\n",
        "        return self.embed_str\n",
        "\n",
        "s3 = u\"\"\"<blockquote class=\"twitter-tweet\" data-lang=\"en\"><p lang=\"en\" dir=\"ltr\">This is a test tweepy tweet</p>&mdash; Nick the Bot (@nic_tweet_bot) <a href=\"https://twitter.com/nic_tweet_bot/status/985647524068208640?ref_src=twsrc%5Etfw\">April 15, 2018</a></blockquote>\n",
        "<script async src=\"https://platform.twitter.com/widgets.js\" charset=\"utf-8\"></script>\"\"\"\n",
        "Tweet(s3)"
      ],
      "execution_count": 0,
      "outputs": [
        {
          "output_type": "execute_result",
          "data": {
            "text/html": [
              "<blockquote class=\"twitter-tweet\" data-lang=\"en\"><p lang=\"en\" dir=\"ltr\">This is a test tweepy tweet</p>&mdash; Nick the Bot (@nic_tweet_bot) <a href=\"https://twitter.com/nic_tweet_bot/status/985647524068208640?ref_src=twsrc%5Etfw\">April 15, 2018</a></blockquote>\n",
              "<script async src=\"https://platform.twitter.com/widgets.js\" charset=\"utf-8\"></script>"
            ],
            "text/plain": [
              "<__main__.Tweet at 0x7ff4c34ea358>"
            ]
          },
          "metadata": {
            "tags": []
          },
          "execution_count": 2
        }
      ]
    },
    {
      "metadata": {
        "id": "1pINEjc_bH2u",
        "colab_type": "text"
      },
      "cell_type": "markdown",
      "source": [
        "Now that we know it works, we can tweet our 10 tweets."
      ]
    },
    {
      "metadata": {
        "id": "MeRmvHNUbHGM",
        "colab_type": "code",
        "colab": {}
      },
      "cell_type": "code",
      "source": [
        "# For each line of our fun facts, tweet out that line with some text saying it's a fun fact\n",
        "for line in text_repo:\n",
        "  api.update_status(\"This is a fun fact: \" + line)\n",
        "  time.sleep(60) # Attempt a tweet every one minute"
      ],
      "execution_count": 0,
      "outputs": []
    },
    {
      "metadata": {
        "id": "xjhMuA0RbG31",
        "colab_type": "text"
      },
      "cell_type": "markdown",
      "source": [
        "From here, we can see that our information bot worked just by checking our Twitter feed! We can even check to see that each one was tweeted one minute from the previous tweet.\n",
        "![10 fact tweets](https://raw.githubusercontent.com/tuffacton/bot_stuff/master/fun_facts.png)"
      ]
    },
    {
      "metadata": {
        "id": "zNzJx0vzavii",
        "colab_type": "text"
      },
      "cell_type": "markdown",
      "source": [
        "#### In the Wild\n",
        "While we've demonstrated construction of a simple information bot here, they are likely the most prolific known bot entities on the Twitter platform. "
      ]
    },
    {
      "metadata": {
        "id": "sxWiuUlRbVt2",
        "colab_type": "text"
      },
      "cell_type": "markdown",
      "source": [
        "##### Netflix Bot\n",
        "A good example of a fairly neutral and indifferent bot is the Netflix Bot, a bot that Tweets out new releases on Netflix:"
      ]
    },
    {
      "metadata": {
        "id": "AoszSpEJbTo7",
        "colab_type": "code",
        "colab": {
          "base_uri": "https://localhost:8080/",
          "height": 215
        },
        "outputId": "5cb43806-5002-47ff-8012-c5d93c996cb0"
      },
      "cell_type": "code",
      "source": [
        "Tweet(u\"\"\"<blockquote class=\"twitter-tweet\" data-lang=\"en\"><p lang=\"en\" dir=\"ltr\">Lost in Space/Season 1 (2018) TV-PG [Season] is now available on Netflix Instant - <a href=\"https://t.co/y3PgmZXD7V\">https://t.co/y3PgmZXD7V</a></p>&mdash; Netflix Bot (@netflix_bot) <a href=\"https://twitter.com/netflix_bot/status/984770817954402304?ref_src=twsrc%5Etfw\">April 13, 2018</a></blockquote>\n",
        "<script async src=\"https://platform.twitter.com/widgets.js\" charset=\"utf-8\"></script>\"\"\")"
      ],
      "execution_count": 0,
      "outputs": [
        {
          "output_type": "execute_result",
          "data": {
            "text/html": [
              "<blockquote class=\"twitter-tweet\" data-lang=\"en\"><p lang=\"en\" dir=\"ltr\">Lost in Space/Season 1 (2018) TV-PG [Season] is now available on Netflix Instant - <a href=\"https://t.co/y3PgmZXD7V\">https://t.co/y3PgmZXD7V</a></p>&mdash; Netflix Bot (@netflix_bot) <a href=\"https://twitter.com/netflix_bot/status/984770817954402304?ref_src=twsrc%5Etfw\">April 13, 2018</a></blockquote>\n",
              "<script async src=\"https://platform.twitter.com/widgets.js\" charset=\"utf-8\"></script>"
            ],
            "text/plain": [
              "<__main__.Tweet at 0x7ff4c34f8588>"
            ]
          },
          "metadata": {
            "tags": []
          },
          "execution_count": 3
        }
      ]
    },
    {
      "metadata": {
        "id": "0VUXG_4sbaIu",
        "colab_type": "text"
      },
      "cell_type": "markdown",
      "source": [
        "##### NYPD Edits\n",
        "Some bots have more idealistic motivations. The [NYPD Edits Twitter bot](https://twitter.com/NYPDedits) stemmed from a [Politico article](https://www.politico.com/states/new-york/city-hall/story/2015/03/edits-to-wikipedia-pages-on-bell-garner-diallo-traced-to-1-police-plaza-087652) detailing how computer users at NYPD's headquarters may have editted articles about alleged police brutality. That being said, the bot has a more objective function than the article, stating that it simply tweets when anonymous Wikipedia edits originate from a list of particular IP ranges that happen to be correlated to NYPD headquarters. Full code for the project can be found on [Github](https://github.com/edsu/anon) as well."
      ]
    },
    {
      "metadata": {
        "id": "ETVZ8NlIbYHp",
        "colab_type": "code",
        "colab": {
          "base_uri": "https://localhost:8080/",
          "height": 215
        },
        "outputId": "a732c025-c3c2-47c1-da98-82e599106cdb"
      },
      "cell_type": "code",
      "source": [
        "Tweet(u\"\"\"<blockquote class=\"twitter-tweet\" data-lang=\"en\"><p lang=\"en\" dir=\"ltr\">Douglaston, Queens Wikipedia article edited by the NYPD <a href=\"http://t.co/5NlZnJJRR2\">http://t.co/5NlZnJJRR2</a></p>&mdash; NYPD edits (@NYPDedits) <a href=\"https://twitter.com/NYPDedits/status/591320946880942080?ref_src=twsrc%5Etfw\">April 23, 2015</a></blockquote>\n",
        "<script async src=\"https://platform.twitter.com/widgets.js\" charset=\"utf-8\"></script>\"\"\")"
      ],
      "execution_count": 0,
      "outputs": [
        {
          "output_type": "execute_result",
          "data": {
            "text/html": [
              "<blockquote class=\"twitter-tweet\" data-lang=\"en\"><p lang=\"en\" dir=\"ltr\">Douglaston, Queens Wikipedia article edited by the NYPD <a href=\"http://t.co/5NlZnJJRR2\">http://t.co/5NlZnJJRR2</a></p>&mdash; NYPD edits (@NYPDedits) <a href=\"https://twitter.com/NYPDedits/status/591320946880942080?ref_src=twsrc%5Etfw\">April 23, 2015</a></blockquote>\n",
              "<script async src=\"https://platform.twitter.com/widgets.js\" charset=\"utf-8\"></script>"
            ],
            "text/plain": [
              "<__main__.Tweet at 0x7ff4c34f8400>"
            ]
          },
          "metadata": {
            "tags": []
          },
          "execution_count": 4
        }
      ]
    },
    {
      "metadata": {
        "id": "e5ZCPog4bfCl",
        "colab_type": "text"
      },
      "cell_type": "markdown",
      "source": [
        "#### Ethical Considerations\n",
        "As we've just demonstrated, Informational Bots are just a way of consolidation and distribution of information that is stored somewhere else. We've seen that it can be relatively helpful from a completely benign stand-point, as evidenced with the Netflix Bot. \n",
        "\n",
        "However, where the ethical aspect comes in is when information that is normally not obtained easily becomes centralized, as demonstrated by the NYPD Edits bot. While the NYPD Edits bot is constructed from public data generated from Wikipedia, the average layman does not have the technical aptitude to connect the dots and therefore the bot allows the public to see what had to be done manually.\n",
        "\n",
        "What actions have resulted from the use of the NYPD Edits bot? Well according to its latest pinned tweet, it was over a year before it was able to find an instance that met it's criteria:"
      ]
    },
    {
      "metadata": {
        "id": "o4huvWXqbdUy",
        "colab_type": "code",
        "colab": {
          "base_uri": "https://localhost:8080/",
          "height": 237
        },
        "outputId": "b3f4b101-a390-484b-d732-00cb7a9b2d05"
      },
      "cell_type": "code",
      "source": [
        "Tweet(u\"\"\"<blockquote class=\"twitter-tweet\" data-lang=\"en\"><p lang=\"en\" dir=\"ltr\">[Ed.: Since a few have asked, yes, <a href=\"https://twitter.com/NYPDedits?ref_src=twsrc%5Etfw\">@NYPDedits</a> is still running. There have been no new anonymous edits to Wikipedia from NYPD IP addresses.]</p>&mdash; NYPD edits (@NYPDedits) <a href=\"https://twitter.com/NYPDedits/status/739825986934603776?ref_src=twsrc%5Etfw\">June 6, 2016</a></blockquote>\n",
        "<script async src=\"https://platform.twitter.com/widgets.js\" charset=\"utf-8\"></script>\"\"\")"
      ],
      "execution_count": 0,
      "outputs": [
        {
          "output_type": "execute_result",
          "data": {
            "text/html": [
              "<blockquote class=\"twitter-tweet\" data-lang=\"en\"><p lang=\"en\" dir=\"ltr\">[Ed.: Since a few have asked, yes, <a href=\"https://twitter.com/NYPDedits?ref_src=twsrc%5Etfw\">@NYPDedits</a> is still running. There have been no new anonymous edits to Wikipedia from NYPD IP addresses.]</p>&mdash; NYPD edits (@NYPDedits) <a href=\"https://twitter.com/NYPDedits/status/739825986934603776?ref_src=twsrc%5Etfw\">June 6, 2016</a></blockquote>\n",
              "<script async src=\"https://platform.twitter.com/widgets.js\" charset=\"utf-8\"></script>"
            ],
            "text/plain": [
              "<__main__.Tweet at 0x7ff4c34f86a0>"
            ]
          },
          "metadata": {
            "tags": []
          },
          "execution_count": 5
        }
      ]
    },
    {
      "metadata": {
        "id": "Dtsxxzyubugk",
        "colab_type": "text"
      },
      "cell_type": "markdown",
      "source": [
        "Of course, this does not necessarily mean that actors in the NYPD buildings are done modifying Wikipedia articles. They could be using VPNs or simply modifying from various other locations with new IPs. But perhaps the bot did act as a catalyst for this change?\n",
        "\n",
        "Another interesting idea to consider is one that is more pervasive to conversations around influence campaigns on the Twitter platform. As I've demonstrated with the bot I've created, I tweeted 10 facts from what we will assume is a trusted source for the purpose of this exercise. For all intents and purposes, I have tweeted 10/10 true facts.\n",
        "\n",
        "Lets tweet something that is not a \"true fact\":"
      ]
    },
    {
      "metadata": {
        "id": "fcS9ld3pbhRi",
        "colab_type": "code",
        "colab": {}
      },
      "cell_type": "code",
      "source": [
        "api.update_status(\"This is a fun fact: 11. The earth actually has more mass than the Sun!\")"
      ],
      "execution_count": 0,
      "outputs": []
    },
    {
      "metadata": {
        "id": "fGL0nXnGbxzh",
        "colab_type": "code",
        "colab": {
          "base_uri": "https://localhost:8080/",
          "height": 215
        },
        "outputId": "506da657-77ef-482b-807c-8b9f61703db6"
      },
      "cell_type": "code",
      "source": [
        "Tweet(u\"\"\"<blockquote class=\"twitter-tweet\" data-lang=\"en\"><p lang=\"en\" dir=\"ltr\">This is a fun fact: 11. The earth actually has more mass than the Sun!</p>&mdash; Nick the Bot (@nic_tweet_bot) <a href=\"https://twitter.com/nic_tweet_bot/status/985663645383245826?ref_src=twsrc%5Etfw\">April 15, 2018</a></blockquote>\n",
        "<script async src=\"https://platform.twitter.com/widgets.js\" charset=\"utf-8\"></script>\"\"\")"
      ],
      "execution_count": 6,
      "outputs": [
        {
          "output_type": "execute_result",
          "data": {
            "text/html": [
              "<blockquote class=\"twitter-tweet\" data-lang=\"en\"><p lang=\"en\" dir=\"ltr\">This is a fun fact: 11. The earth actually has more mass than the Sun!</p>&mdash; Nick the Bot (@nic_tweet_bot) <a href=\"https://twitter.com/nic_tweet_bot/status/985663645383245826?ref_src=twsrc%5Etfw\">April 15, 2018</a></blockquote>\n",
              "<script async src=\"https://platform.twitter.com/widgets.js\" charset=\"utf-8\"></script>"
            ],
            "text/plain": [
              "<__main__.Tweet at 0x7ff4c34fcfd0>"
            ]
          },
          "metadata": {
            "tags": []
          },
          "execution_count": 6
        }
      ]
    },
    {
      "metadata": {
        "id": "NwGEqksdb0Xy",
        "colab_type": "text"
      },
      "cell_type": "markdown",
      "source": [
        "At this point, my bot has demonstrated its worth as a trusted Informational Bot by tweeting out 10 verificably true facts. Perhaps at this point I have built a following of individuals who have placed trust in my fact tweets and spread them around to their friends not only on Twitter but out in physical social gatherings. Have I effectively changed a conversation or two with this tweet?"
      ]
    }
  ]
}