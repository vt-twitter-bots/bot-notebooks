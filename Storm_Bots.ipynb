{
  "nbformat": 4,
  "nbformat_minor": 0,
  "metadata": {
    "colab": {
      "name": "Storm_Bots.ipynb",
      "version": "0.3.2",
      "provenance": [],
      "collapsed_sections": []
    },
    "kernelspec": {
      "name": "python3",
      "display_name": "Python 3"
    }
  },
  "cells": [
    {
      "cell_type": "markdown",
      "metadata": {
        "id": "view-in-github",
        "colab_type": "text"
      },
      "source": [
        "[View in Colaboratory](https://colab.research.google.com/github/tuffacton/bot-notebooks/blob/master/Storm_Bots.ipynb)"
      ]
    },
    {
      "metadata": {
        "id": "IzEFdDx6Z5lM",
        "colab_type": "text"
      },
      "cell_type": "markdown",
      "source": [
        "# Twitter Storm Bots"
      ]
    },
    {
      "metadata": {
        "id": "ZAcj6X4Addc8",
        "colab_type": "text"
      },
      "cell_type": "markdown",
      "source": [
        "## Follower Storm"
      ]
    },
    {
      "metadata": {
        "id": "Jbxn0C9QZ-Vp",
        "colab_type": "text"
      },
      "cell_type": "markdown",
      "source": [
        "#### Objective\n",
        "The objective of a \"Follower Storm\" as defined by this project group is to utilize a large mass of Twitter users to follow a directed users. The idea behind this is that Twitter as a platform seems to have an inherent characteristics that users believe that an account with more followers should be lent more credence."
      ]
    },
    {
      "metadata": {
        "id": "jsnJUNKqZ_jx",
        "colab_type": "text"
      },
      "cell_type": "markdown",
      "source": [
        "#### Bot Creation\n",
        "There's a couple known ways to buy followers on Twitter. One is a way that is actually officially sanctioned and administered by Twitter and should come as no surprise. It is called a [Followers campaign](https://business.twitter.com/en/solutions/twitter-ads/followers.html) and is effectivley paying to use the Twitter advertising platform to target individuals with various characteristics to follow your account. \n",
        "\n",
        "That being said, an individual with the simple objective of having more followers regardless of the quality of those users may look to simply buy a pool of them outright. Comedian Joe Mande even told [GQ a story of how hilariously easy it was for him to buy millions of followers](https://www.gq.com/story/joe-mande-one-million-twitter-followers). While the exact details of how a huge group of bots could be maintained and told how to follow a given user, lets simplify it down further and demonstrate how just one bot can be automatically directed to follow a user. I promise it's incredibly simple.\n",
        "\n",
        "In an action that is probably perverse for the platform, lets have the bot we created follow its creator.\n",
        "\n",
        "Here's a picture of the bot's status before it follows anyone:\n",
        "![pre-follow](https://github.com/tuffacton/bot_stuff/blob/master/pre_follow.png?raw=true)"
      ]
    },
    {
      "metadata": {
        "id": "524GR-TlZVNM",
        "colab_type": "code",
        "colab": {}
      },
      "cell_type": "code",
      "source": [
        "# Comment these out if you already have these dependencies or manage them \n",
        "# with another package manager like conda\n",
        "!pip install -q tweepy\n",
        "import tweepy, time\n",
        "\n",
        "# These keys will be removed from the published code, but you can use your own:\n",
        "CONSUMER_KEY = 'XXXXXXXXXXXXXXXXXX'\n",
        "CONSUMER_SECRET = 'XXXXXXXXXXXXXXXXXXXXXXXXXXXXXXXXXXXX'\n",
        "ACCESS_TOKEN = 'XXXXXXXXXXXXXXXXXXXXXXXXXXXXXXXXXXXXXXXXXXXXXXXXXXXXXX'\n",
        "ACCESS_SECRET = 'XXXXXXXXXXXXXXXXXXXXXXXXXXXXXXXXXXXX'\n",
        "\n",
        "# Configure access information for reaching Twitter\n",
        "auth = tweepy.OAuthHandler(CONSUMER_KEY, CONSUMER_SECRET)\n",
        "auth.set_access_token(ACCESS_TOKEN, ACCESS_SECRET)"
      ],
      "execution_count": 0,
      "outputs": []
    },
    {
      "metadata": {
        "id": "hMdaYMS1aurb",
        "colab_type": "code",
        "colab": {}
      },
      "cell_type": "code",
      "source": [
        "# Luckily for us, tweepy has simple functionality built in\n",
        "\n",
        "# Access Twitter again\n",
        "api = tweepy.API(auth)\n",
        "\n",
        "# Function to follow a user by input username\n",
        "def follow_user(username):\n",
        "  '''\n",
        "  With pre-defined api, follow provided username\n",
        "  '''\n",
        "  api.create_friendship(username)"
      ],
      "execution_count": 0,
      "outputs": []
    },
    {
      "metadata": {
        "id": "wEISV0Yha0UN",
        "colab_type": "code",
        "colab": {}
      },
      "cell_type": "code",
      "source": [
        "follow_user(\"NicActon\")"
      ],
      "execution_count": 0,
      "outputs": []
    },
    {
      "metadata": {
        "id": "Yc-MjSC-dSLc",
        "colab_type": "text"
      },
      "cell_type": "markdown",
      "source": [
        "We can verify that the correct user has been followed by viewing the bot's Following\n",
        "![post-fallow](https://github.com/tuffacton/bot_stuff/blob/master/post_follow.png?raw=true)"
      ]
    },
    {
      "metadata": {
        "id": "CjIYtDkUdoPX",
        "colab_type": "text"
      },
      "cell_type": "markdown",
      "source": [
        "## Retweet Storm"
      ]
    },
    {
      "metadata": {
        "id": "MiowP8g1dqNH",
        "colab_type": "text"
      },
      "cell_type": "markdown",
      "source": [
        "#### Objective\n",
        "The objective of a \"Retweet Storm\" as defined by this project group is to utilize a large mass of Twitter users to Retweet a selected tweet. The idea behind this is that, likely in conjunction with some of the characteristics of a \"Follower Storm\" a tweet can be purchased to go viral or reach users it would not have otherwise reached organically."
      ]
    },
    {
      "metadata": {
        "id": "3k2GXaEFdtTO",
        "colab_type": "text"
      },
      "cell_type": "markdown",
      "source": [
        "#### Bot Creation\n",
        "The Retweet Storm is effectively a Follower storm utilized in a different way by retweeting certain tweets instead of following users.\n",
        "\n",
        "Initially, we'll demonstrate how our bot can re-tweet one tweet. Of course, this can likely be automated as twitter has various API calls to pull ids of users tweets programmatically."
      ]
    },
    {
      "metadata": {
        "id": "IiN_7fg6do81",
        "colab_type": "code",
        "colab": {}
      },
      "cell_type": "code",
      "source": [
        "# Luckily for us again, tweepy has simple functionality built in\n",
        "\n",
        "# Access Twitter again\n",
        "api = tweepy.API(auth)\n",
        "\n",
        "# Function to follow a user by input username\n",
        "def retweet_status(tweet_id):\n",
        "  '''\n",
        "  With pre-defined api, re-tweet a tweet by id\n",
        "  '''\n",
        "  api.retweet(tweet_id)"
      ],
      "execution_count": 0,
      "outputs": []
    },
    {
      "metadata": {
        "id": "4IYhqmXXdxtZ",
        "colab_type": "code",
        "colab": {}
      },
      "cell_type": "code",
      "source": [
        "# Find the id of the tweet you want to retweet\n",
        "# It usually follows https://twitter.com/<username>/status/<tweet_id>\n",
        "tweet_id = 979456790340481025\n",
        "\n",
        "retweet_status(tweet_id)"
      ],
      "execution_count": 0,
      "outputs": []
    },
    {
      "metadata": {
        "id": "0VwsRVWCdxYm",
        "colab_type": "text"
      },
      "cell_type": "markdown",
      "source": [
        "From here, we can check our bot's Tweets to verify that the correct Retweet was performed\n",
        "![retweet](https://github.com/tuffacton/bot_stuff/blob/master/retweet.png?raw=true)"
      ]
    },
    {
      "metadata": {
        "id": "GJw7Zf6nd2L9",
        "colab_type": "text"
      },
      "cell_type": "markdown",
      "source": [
        "#### In the Wild\n",
        "Large groups of fake followers were so common on Twitter that for a long time it was considered a laughably known aspect of the platform. One known instance is the previously mentioned comedian Joe Mande who, on his own Twitter profile, admits to [buying over 1 million followers for \"like $400.\"](https://twitter.com/joemande). In 2013, Security Expert Brian Krebs detailed [how users can be bought by the thousands](https://krebsonsecurity.com/2013/08/buying-battles-in-the-war-on-twitter-spam/) and the characteristics surrounding these accounts."
      ]
    },
    {
      "metadata": {
        "id": "RCHOiEbnd5RH",
        "colab_type": "text"
      },
      "cell_type": "markdown",
      "source": [
        "#### Ethical Considerations\n",
        "\n",
        "We can consider the uses of these follower storms to measure their impact. One potential use that we've detailed is that a mass of Twitter followers can be used for objectives that are fairly benign. Sometimes they can be bought as a vanity project, some people believe that they have a message that won't get out unless they seem more important, and some people recognize it as an ingrained function of the platform and do it as a joke. \n",
        "\n",
        "All that being said, Twitter explicitly does not allow for the [purchase or sale of account interactions on their platform](https://help.twitter.com/en/safety-and-security/fake-twitter-followers-and-interactions). Everyone who does so is in violation of their terms and conditions.\n",
        "\n",
        "Twitter seems to be heavily embarrassed by the use of Follower storms on their platform and are implementing heavy-handed methods to remove them and anyone who may be purchasing them. As an unfortunate side-effect, it seems that even this attempt at policing has been reverse engineered to a certain extend and [weaponized](https://krebsonsecurity.com/2017/08/twitter-bots-use-likes-rts-for-intimidation/) against various parties by pointing a bot following at a legitimate account in order to de-legitimize that accounts stance and messages on the platform, maybe even going so far as getting that account suspended or removed.\n"
      ]
    },
    {
      "metadata": {
        "id": "b9V1p6sfeGFy",
        "colab_type": "code",
        "colab": {}
      },
      "cell_type": "code",
      "source": [
        ""
      ],
      "execution_count": 0,
      "outputs": []
    }
  ]
}